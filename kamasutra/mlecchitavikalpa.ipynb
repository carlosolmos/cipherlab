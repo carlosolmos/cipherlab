{
 "cells": [
  {
   "cell_type": "code",
   "execution_count": 56,
   "metadata": {},
   "outputs": [],
   "source": [
    "from __future__ import print_function\n",
    "import random\n",
    "import string\n",
    "from ipywidgets import interact, interactive, fixed, interact_manual\n",
    "import ipywidgets as widgets\n",
    "from IPython.display import Markdown as md\n",
    "random.seed()"
   ]
  },
  {
   "attachments": {},
   "cell_type": "markdown",
   "metadata": {},
   "source": [
    "# mlecchita-vikalpa\n",
    "\n",
    "The \"Art of Secret Writing\" is the 45th of 64 arts that women should study, according to the Kamasutra. The methods for concealing messages teached in the ancient text are different types of substitution and transposition ciphers.One of the recommended thecniques, according to Simon Singh [1], asks to randomly pair the letters of the alphabet, and then replace each character in the plaintext message with its partner to produce a ciphertext. \n",
    "\n",
    "## Implementation\n",
    "\n",
    "### 1. We begin by establishing the alphabet:\n",
    "\n",
    "* the 26 letters in the english language alphabet."
   ]
  },
  {
   "cell_type": "code",
   "execution_count": 57,
   "metadata": {},
   "outputs": [
    {
     "name": "stdout",
     "output_type": "stream",
     "text": [
      "alphabet: abcdefghijklmnopqrstuvwxyz\n"
     ]
    }
   ],
   "source": [
    "# alphabet\n",
    "alphabet = string.ascii_lowercase \n",
    "print('alphabet: {}'.format(alphabet))\n"
   ]
  },
  {
   "attachments": {},
   "cell_type": "markdown",
   "metadata": {},
   "source": [
    "### 2. Create random pairs in 2 sets of unique characters"
   ]
  },
  {
   "cell_type": "code",
   "execution_count": 58,
   "metadata": {},
   "outputs": [
    {
     "name": "stdout",
     "output_type": "stream",
     "text": [
      "Each character in Set 1 is paired with a character in Set 2:\n",
      "['j', 'r', 'o', 'f', 'm', 'h', 'y', 'k', 'u', 'x', 'q', 'a', 'g']\n",
      "['b', 'c', 'd', 'e', 'i', 'l', 'n', 'p', 's', 't', 'v', 'w', 'z']\n"
     ]
    },
    {
     "data": {
      "text/markdown": [
       "In this case, the letter *\"j\"* is paired with *\"b\"*"
      ],
      "text/plain": [
       "<IPython.core.display.Markdown object>"
      ]
     },
     "execution_count": 58,
     "metadata": {},
     "output_type": "execute_result"
    }
   ],
   "source": [
    "# select half of the characters in the alphabet randomly in Set #1 \n",
    "setLen=int(len(alphabet)/2)\n",
    "set1 = random.sample(alphabet,k=setLen)\n",
    "\n",
    "# pair them in Set #2 with the remaining letters of the alphabet\n",
    "set2=[]\n",
    "for l in alphabet:\n",
    "    if l not in set1:\n",
    "        set2.append(l)    \n",
    "\n",
    "print('Each character in Set 1 is paired with a character in Set 2:')\n",
    "\n",
    "print(set1)\n",
    "print(set2)\n",
    "\n",
    "md('In this case, the letter *\"{}\"* is paired with *\"{}\"*'.format(set1[0], set2[0]))"
   ]
  },
  {
   "attachments": {},
   "cell_type": "markdown",
   "metadata": {},
   "source": [
    "### 3. The encrypting algorithm is a simple substitution cipher that replaces each letter in the message by its partner in the other set. The characters not in the alphabet will be lost."
   ]
  },
  {
   "cell_type": "code",
   "execution_count": 59,
   "metadata": {},
   "outputs": [],
   "source": [
    "def mlecchita(input):\n",
    "    global alphabet\n",
    "    global set1\n",
    "    global set2\n",
    "    output=\"\"\n",
    "    for p in input:\n",
    "        if p in alphabet:  #any non-alphabethic character will be lost\n",
    "            inx=-1\n",
    "            c=\"\"\n",
    "            if p in set1:\n",
    "                inx = set1.index(p)\n",
    "                c=set2[inx]\n",
    "            else:\n",
    "                inx = set2.index(p)\n",
    "                c=set1[inx]\n",
    "            output += c\n",
    "    \n",
    "    return output"
   ]
  },
  {
   "attachments": {},
   "cell_type": "markdown",
   "metadata": {},
   "source": [
    "### 4. Let's encrypt a message to test our algorithm"
   ]
  },
  {
   "cell_type": "code",
   "execution_count": 60,
   "metadata": {},
   "outputs": [],
   "source": [
    "\n",
    "plaintext=''\n",
    "ciphertext=''\n",
    "deciphertext=''\n",
    "def secrets(message):\n",
    "    global plaintext, ciphertext, deciphertextP\n",
    "    plaintext=message\n",
    "    ciphertext = mlecchita(plaintext)\n",
    "    deciphertext=mlecchita(ciphertext)\n"
   ]
  },
  {
   "cell_type": "code",
   "execution_count": 61,
   "metadata": {},
   "outputs": [
    {
     "data": {
      "application/vnd.jupyter.widget-view+json": {
       "model_id": "f87366220cc4495789da279a455854fb",
       "version_major": 2,
       "version_minor": 0
      },
      "text/plain": [
       "interactive(children=(Text(value='hola secret message', description='message'), Output()), _dom_classes=('widg…"
      ]
     },
     "metadata": {},
     "output_type": "display_data"
    },
    {
     "data": {
      "text/plain": [
       "<function __main__.secrets(message)>"
      ]
     },
     "execution_count": 61,
     "metadata": {},
     "output_type": "execute_result"
    }
   ],
   "source": [
    "interact(secrets, message=\"hola secret message\")"
   ]
  },
  {
   "attachments": {},
   "cell_type": "markdown",
   "metadata": {},
   "source": [
    "### The result:"
   ]
  },
  {
   "cell_type": "code",
   "execution_count": 62,
   "metadata": {},
   "outputs": [
    {
     "name": "stdout",
     "output_type": "stream",
     "text": [
      "plaintext:\thola secret message\n",
      "ciphertext:\tldhwufrcfxifuuwzf\n",
      "deciphertext:\tholasecretmessage\n"
     ]
    }
   ],
   "source": [
    "print(\"plaintext:\\t{}\".format(plaintext))\n",
    "print(\"ciphertext:\\t{}\".format(ciphertext))\n",
    "print(\"deciphertext:\\t{}\".format(deciphertext))"
   ]
  },
  {
   "attachments": {},
   "cell_type": "markdown",
   "metadata": {},
   "source": [
    "# References\n",
    "\n",
    "[1] Singh, Simon, The Code Book: The Science of Secrecy From Ancient Egypt to Quantum Cryptography. New York, Anchor Books, 2000. Singh, Simon. The Code Book: The Science of Secrecy From Ancient Egypt to Quantum Cryptography."
   ]
  }
 ],
 "metadata": {
  "kernelspec": {
   "display_name": "Python 3",
   "language": "python",
   "name": "python3"
  },
  "language_info": {
   "codemirror_mode": {
    "name": "ipython",
    "version": 3
   },
   "file_extension": ".py",
   "mimetype": "text/x-python",
   "name": "python",
   "nbconvert_exporter": "python",
   "pygments_lexer": "ipython3",
   "version": "3.8.10"
  },
  "orig_nbformat": 4,
  "vscode": {
   "interpreter": {
    "hash": "916dbcbb3f70747c44a77c7bcd40155683ae19c65e1c03b4aa3499c5328201f1"
   }
  }
 },
 "nbformat": 4,
 "nbformat_minor": 2
}
