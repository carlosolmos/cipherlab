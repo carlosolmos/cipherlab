{
 "cells": [
  {
   "cell_type": "code",
   "execution_count": 63,
   "metadata": {},
   "outputs": [],
   "source": [
    "from __future__ import print_function\n",
    "import random\n",
    "import string\n",
    "from ipywidgets import interact, interactive, fixed, interact_manual\n",
    "from IPython.display import display\n",
    "import ipywidgets as widgets\n",
    "random.seed()"
   ]
  },
  {
   "attachments": {},
   "cell_type": "markdown",
   "metadata": {},
   "source": [
    "# mlecchita-vikalpa\n",
    "\n",
    "The \"Art of Secret Writing\" is the 45th of 64 arts that women should study, according to the Kamasutra.\n",
    "\n",
    "The methods teached in the ancient text are essentially different types of substituion and transposition ciphers.\n",
    "\n",
    "One of the recommended thecniques asks to randomly pair the letters of the alphabet, and then replace each character in the plaintext message with its partner."
   ]
  },
  {
   "attachments": {},
   "cell_type": "markdown",
   "metadata": {},
   "source": [
    "We begin by establishing the alphabet we will use:\n",
    "\n",
    "> the 26 letters in the english language alphabet."
   ]
  },
  {
   "cell_type": "code",
   "execution_count": 64,
   "metadata": {},
   "outputs": [
    {
     "name": "stdout",
     "output_type": "stream",
     "text": [
      "abcdefghijklmnopqrstuvwxyz\n"
     ]
    }
   ],
   "source": [
    "# alphabet\n",
    "alphabet = string.ascii_lowercase \n",
    "print(alphabet)"
   ]
  },
  {
   "attachments": {},
   "cell_type": "markdown",
   "metadata": {},
   "source": [
    "Create random pairs in 2 sets of unique characters"
   ]
  },
  {
   "cell_type": "code",
   "execution_count": 65,
   "metadata": {},
   "outputs": [
    {
     "name": "stdout",
     "output_type": "stream",
     "text": [
      "Each character in Set 1 is paired with a character in Set 2\n",
      "['o', 'a', 'l', 's', 'w', 'g', 'p', 'b', 'h', 'e', 'f', 'q', 'z']\n",
      "['c', 'd', 'i', 'j', 'k', 'm', 'n', 'r', 't', 'u', 'v', 'x', 'y']\n",
      "so that the letter \"o\" is paired with \"c\"\n"
     ]
    }
   ],
   "source": [
    "# select half of the characters in the alphabet randomly in Set #1 \n",
    "setLen=int(len(alphabet)/2)\n",
    "set1 = random.sample(alphabet,k=setLen)\n",
    "\n",
    "# pair them in Set #2 with the remaining letters of the alphabet\n",
    "set2=[]\n",
    "for l in alphabet:\n",
    "    if l not in set1:\n",
    "        set2.append(l)    \n",
    "\n",
    "print(\"Each character in Set 1 is paired with a character in Set 2\")\n",
    "\n",
    "print(set1)\n",
    "print(set2)\n",
    "\n",
    "print('so that the letter \"{}\" is paired with \"{}\"'.format(set1[0], set2[0]))"
   ]
  },
  {
   "attachments": {},
   "cell_type": "markdown",
   "metadata": {},
   "source": [
    "The encrypting algorithm is a simple substitution cipher that replaces each letter in the message by its partner in the other set. The characters not in the alphabet will be lost."
   ]
  },
  {
   "cell_type": "code",
   "execution_count": 66,
   "metadata": {},
   "outputs": [],
   "source": [
    "def mlecchita(input):\n",
    "    global alphabet\n",
    "    global set1\n",
    "    global set2\n",
    "    output=\"\"\n",
    "    for p in input:\n",
    "        if p in alphabet:  #any non-alphabethic character will be lost\n",
    "            inx=-1\n",
    "            c=\"\"\n",
    "            if p in set1:\n",
    "                inx = set1.index(p)\n",
    "                c=set2[inx]\n",
    "            else:\n",
    "                inx = set2.index(p)\n",
    "                c=set1[inx]\n",
    "            output += c\n",
    "    \n",
    "    return output"
   ]
  },
  {
   "attachments": {},
   "cell_type": "markdown",
   "metadata": {},
   "source": [
    "Let's encrypt a message to test our algorithm"
   ]
  },
  {
   "cell_type": "code",
   "execution_count": 67,
   "metadata": {},
   "outputs": [],
   "source": [
    "\n",
    "def secrets(plaintext):\n",
    "    print(\"plaintext:\\t{}\".format(plaintext))\n",
    "    ciphertext = mlecchita(plaintext)\n",
    "    print(\"ciphertext:\\t{}\".format(ciphertext))\n",
    "    deciphertext=mlecchita(ciphertext)\n",
    "    print(\"deciphertext:\\t{}\".format(deciphertext))\n"
   ]
  },
  {
   "cell_type": "code",
   "execution_count": 68,
   "metadata": {},
   "outputs": [
    {
     "data": {
      "application/vnd.jupyter.widget-view+json": {
       "model_id": "842184f330004087909d6794b526fcae",
       "version_major": 2,
       "version_minor": 0
      },
      "text/plain": [
       "interactive(children=(Text(value='hola secret message', description='plaintext'), Output()), _dom_classes=('wi…"
      ]
     },
     "metadata": {},
     "output_type": "display_data"
    },
    {
     "data": {
      "text/plain": [
       "<function __main__.secrets(plaintext)>"
      ]
     },
     "execution_count": 68,
     "metadata": {},
     "output_type": "execute_result"
    }
   ],
   "source": [
    "interact(secrets, plaintext=\"hola secret message\")"
   ]
  }
 ],
 "metadata": {
  "kernelspec": {
   "display_name": "Python 3",
   "language": "python",
   "name": "python3"
  },
  "language_info": {
   "codemirror_mode": {
    "name": "ipython",
    "version": 3
   },
   "file_extension": ".py",
   "mimetype": "text/x-python",
   "name": "python",
   "nbconvert_exporter": "python",
   "pygments_lexer": "ipython3",
   "version": "3.8.10"
  },
  "orig_nbformat": 4,
  "vscode": {
   "interpreter": {
    "hash": "916dbcbb3f70747c44a77c7bcd40155683ae19c65e1c03b4aa3499c5328201f1"
   }
  }
 },
 "nbformat": 4,
 "nbformat_minor": 2
}
